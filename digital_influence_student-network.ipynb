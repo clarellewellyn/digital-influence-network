{
 "cells": [
  {
   "cell_type": "markdown",
   "metadata": {},
   "source": [
    "# Network Visualisation"
   ]
  },
  {
   "cell_type": "markdown",
   "metadata": {},
   "source": [
    "## In this notebook:\n",
    "\n",
    "1. We will create a basic a network using networkx\n",
    "2. We will learn how to manipulate aspects of that graph\n",
    "3. We will use Twitter retweet data to make a graph \n",
    "4. There is an optional extra part where we can use Gephi to work with larger datasets\n"
   ]
  },
  {
   "cell_type": "markdown",
   "metadata": {},
   "source": [
    "# Part 1: Basic network graphs\n",
    "\n",
    "Networks can be used to show connections. This is a great way to visualise connections in social media and helps us to understand influence -- who is listening to who\n",
    "\n",
    "## Questions & Objectives\n",
    "\n",
    "* We are going to download the libraries required\n",
    "* We will make an initial graph\n",
    "* We will learn how to manipulate aspects of that graph\n",
    "* we will try different projections of that graph"
   ]
  },
  {
   "cell_type": "markdown",
   "metadata": {},
   "source": [
    "### 1. Firstly we will download the libraries "
   ]
  },
  {
   "cell_type": "code",
   "execution_count": null,
   "metadata": {},
   "outputs": [],
   "source": [
    "# Uncomment these sections the first time you run this cell. This will update the libaries. \n",
    "# If you don't do this you will get an error when we use the Twitter data to make larger graphs later down\n",
    "# Once installed restart the kernel and comment out this section again.\n",
    "\n",
    "#!pip install --upgrade networkx\n",
    "#!pip install --upgrade scipy networkx\n",
    "\n",
    "# Import the libraries we will use today\n",
    "import networkx as nx\n",
    "import matplotlib.pyplot as plt\n",
    "import pandas as pd\n",
    "import matplotlib"
   ]
  },
  {
   "cell_type": "markdown",
   "metadata": {},
   "source": [
    "### 2. We are going to draw an initial graph with a few nodes to learn the basics."
   ]
  },
  {
   "cell_type": "code",
   "execution_count": null,
   "metadata": {},
   "outputs": [],
   "source": [
    "# Networks use plt to create the visualisation\n",
    "# Here we set the visualisation size\n",
    "\n",
    "fig, ax = plt.subplots(figsize=(15,8))\n",
    "\n",
    "# We then set up the nodes in the graph (the circles) and the edges (the lines)\n",
    "relationships = pd.DataFrame({'from': ['Luke','Clare', 'Clare', 'Clare', 'Laura'], \n",
    "                              'to':   ['Robin','Laura', 'Robin', 'Luke', 'Robin']})\n",
    "\n",
    "# We then get networkx to create the graph\n",
    "G = nx.from_pandas_edgelist(relationships, 'from', 'to', create_using=nx.Graph())\n",
    "\n",
    "# We then draw the graph -- we set it to have labels, green nodes and we set the node size\n",
    "nx.draw(G, with_labels=True, node_color='green', node_size=2000)\n"
   ]
  },
  {
   "cell_type": "markdown",
   "metadata": {},
   "source": [
    "### 🖇🐛 Minitask: Change the network graph\n",
    "\n",
    "Try the above again and add yourself into the network. Change the sizes and colours of the nodes."
   ]
  },
  {
   "cell_type": "markdown",
   "metadata": {},
   "source": [
    "### 3. We will use arrays to set colour and size  "
   ]
  },
  {
   "cell_type": "code",
   "execution_count": null,
   "metadata": {},
   "outputs": [],
   "source": [
    "# Here we set a new plot with overall figure size\n",
    "fig, ax = plt.subplots(figsize=(15,8))\n",
    "\n",
    "# We set up the nodes and edges\n",
    "relationships = pd.DataFrame({'from': ['Clare','Clare','Clare'], \n",
    "                              'to':   ['Luke','Laura','Robin']})\n",
    "# We create the graph\n",
    "G = nx.from_pandas_edgelist(relationships, 'from', 'to', create_using=nx.Graph())\n",
    "\n",
    "# Here we set an array so we can change the colours and sizes more easily\n",
    "edge_colors = ['blue', 'red', 'green']\n",
    "node_sizes = [10000, 2000, 3000, 4000]\n",
    "node_color =['red','green','yellow', 'blue']\n",
    "\n",
    "# we draw the graph and reference the arrays\n",
    "nx.draw(G, with_labels=True, node_color=node_color, node_size=node_sizes, width=3, edge_color=edge_colors)"
   ]
  },
  {
   "cell_type": "markdown",
   "metadata": {},
   "source": [
    "### 🖇🐛 Minitask: \n",
    "\n",
    "Try changing the colours of the nodes and edges. Add in more nodes.\n"
   ]
  },
  {
   "cell_type": "markdown",
   "metadata": {},
   "source": [
    "### 4. We will now try different ways of drawing the graphs. These are called projections.  We are going to grop together different nodes so that thay have a type."
   ]
  },
  {
   "cell_type": "code",
   "execution_count": null,
   "metadata": {},
   "outputs": [],
   "source": [
    "# Here we set a new plot with overall figure size\n",
    "f = plt.figure(figsize=(15,8))\n",
    "# We can set the graphs to have a 'tight' layout\n",
    "f.tight_layout()\n",
    "\n",
    "# Specify data and attributes as before\n",
    "relationships = pd.DataFrame({'from': ['CLARE', 'CLARE', 'CLARE', 'ROBIN', 'ROBIN', 'ROBIN', 'ROBIN', 'LUKE', 'LUKE', \n",
    "                                       'LUKE', 'LAURA', 'LAURA', 'LAURA', 'LAURA'], \n",
    "                              'to': ['GERRY', 'LAURA', 'ADAM', 'LUKE', 'LAURA', 'ADAM', 'GERRY', 'GERRY', 'STUART', 'LAURA',\n",
    "                                     'LUKE', 'GERRY', 'STUART', 'ADAM']})\n",
    "\n",
    "# Create DF for node characteristics\n",
    "carac = pd.DataFrame({'ID':['CLARE','ROBIN','LUKE','LAURA','GERRY','STUART','ADAM'], \n",
    "                      'type':['1','1', '1', '2', '2', '3','3']})\n",
    "\n",
    "# Create graph object\n",
    "G = nx.from_pandas_edgelist(relationships, 'from', 'to', create_using=nx.Graph())\n",
    "\n",
    "# Make types into categories\n",
    "carac= carac.set_index('ID')\n",
    "carac=carac.reindex(G.nodes())\n",
    "\n",
    "carac['type']=pd.Categorical(carac['type'])\n",
    "carac['type'].cat.codes\n",
    "\n",
    "# Set node colors\n",
    "cmap = matplotlib.colors.ListedColormap(['blue', 'green', 'orange'])\n",
    "\n",
    "# Set node sizes -- we are making those of type 1 bigger \n",
    "node_sizes = [4000 if entry != '1' else 2000 for entry in carac.type]\n",
    "\n",
    "# draw the graph\n",
    "nx.draw(G, with_labels=True, node_color=carac['type'].cat.codes, cmap=cmap, \n",
    "        node_size = node_sizes, edgecolors='gray')\n",
    "\n"
   ]
  },
  {
   "cell_type": "markdown",
   "metadata": {},
   "source": [
    "### 5. We will now try different ways of drawing the graphs. These are called projections. "
   ]
  },
  {
   "cell_type": "code",
   "execution_count": null,
   "metadata": {},
   "outputs": [],
   "source": [
    "# Here we set a new plot with overall figure size\n",
    "f = plt.figure(figsize=(20,20))\n",
    "# We can set the graphs to have a 'tight' layout\n",
    "f.tight_layout()\n",
    "\n",
    "# Create different layouts\n",
    "\n",
    "# Subplot 1\n",
    "plt.subplot(2, 2, 1)\n",
    "nx.draw(G, with_labels=True, node_color=carac['type'].cat.codes, cmap=cmap, \n",
    "        node_size = node_sizes, edgecolors='gray')\n",
    "plt.title('Spring Layout (Default)', fontsize=18)\n",
    "\n",
    "# Subplot 2\n",
    "plt.subplot(2, 2, 2)\n",
    "nx.draw_random(G, with_labels=True, node_color=carac['type'].cat.codes, cmap=cmap, \n",
    "               node_size = node_sizes, edgecolors='gray')\n",
    "plt.title('Random Layout', fontsize=18)\n",
    "\n",
    "# Subplot 3\n",
    "plt.subplot(2, 2, 3)\n",
    "nx.draw_shell(G, with_labels=True, node_color=carac['type'].cat.codes, cmap=cmap, \n",
    "            node_size = node_sizes, edgecolors='gray')\n",
    "plt.title('Shell Layout', fontsize=18)\n",
    "\n",
    "# Subplot 4\n",
    "plt.subplot(2, 2, 4)\n",
    "nx.draw_spectral(G, with_labels=True, node_color=carac['type'].cat.codes, cmap=cmap, \n",
    "            node_size = node_sizes, edgecolors='gray')\n",
    "plt.title('Spectral Layout', fontsize=18)"
   ]
  },
  {
   "cell_type": "markdown",
   "metadata": {},
   "source": [
    "# Part 2: Working with Twitter Data\n",
    "\n",
    "We are now going to look at using some real social media data from Twitter\n",
    "\n",
    "## Questions & Objectives\n",
    "\n",
    "* We are going to read in some historic Twitter data. This data was gathered on 23rd June 2016. It is the from three accounts that retweetwd most on the topic of Brexit on that day. The file gives you the tweet ID, the person who retweeted, the person who originally tweeted\n",
    "* We will hold the data is a special data frame called Pandas which will allow us to manage this large data set more easily. \n",
    "* We will look at the data and see what it contains. \n",
    "* Ww will map this data as a network\n"
   ]
  },
  {
   "cell_type": "markdown",
   "metadata": {},
   "source": [
    "### 1. Read in the file and take a look at it."
   ]
  },
  {
   "cell_type": "code",
   "execution_count": null,
   "metadata": {},
   "outputs": [],
   "source": [
    "#Here we use Pandas so we can use its DataFrame format to hold the data.\n",
    "df = pd.read_csv('network_dict_tiny.csv')\n",
    "df.head()"
   ]
  },
  {
   "cell_type": "markdown",
   "metadata": {},
   "source": [
    "### 2. We can explore different aspects of the data"
   ]
  },
  {
   "cell_type": "code",
   "execution_count": null,
   "metadata": {},
   "outputs": [],
   "source": [
    "df['Retweeter'].count()"
   ]
  },
  {
   "cell_type": "code",
   "execution_count": null,
   "metadata": {},
   "outputs": [],
   "source": [
    "df['Tweeter'].count()\n"
   ]
  },
  {
   "cell_type": "code",
   "execution_count": null,
   "metadata": {},
   "outputs": [],
   "source": [
    "df['Retweeter'].nunique()"
   ]
  },
  {
   "cell_type": "code",
   "execution_count": null,
   "metadata": {},
   "outputs": [],
   "source": [
    "df['Tweeter'].nunique()"
   ]
  },
  {
   "cell_type": "markdown",
   "metadata": {},
   "source": [
    "### 🖇🐛Minitask - Thinking task\n",
    "\n",
    "Think about why the data has nodes that re-tweet lots of data. What are these Twitter accounts trying to do? Who do you think they may be?\n"
   ]
  },
  {
   "cell_type": "markdown",
   "metadata": {},
   "source": [
    "### 2. Lets draw a network graph of the data like we did before\n"
   ]
  },
  {
   "cell_type": "code",
   "execution_count": null,
   "metadata": {},
   "outputs": [],
   "source": [
    "# Specify data and attributes by reading from the data frame\n",
    "relationships = pd.DataFrame({'from': df['Retweeter'].tolist(), \n",
    "                              'to': df['Tweeter'].tolist()})\n",
    "\n",
    "f = plt.figure(figsize=(15,8))\n",
    "f.tight_layout()\n",
    "# Create graph object\n",
    "G = nx.from_pandas_edgelist(relationships, 'from', 'to', create_using=nx.Graph())\n",
    "nx.draw(G)\n"
   ]
  },
  {
   "cell_type": "markdown",
   "metadata": {},
   "source": [
    "### 🖇🐛Minitask - Thinking task\n",
    "\n",
    "What do you think this structure tells us about the data?"
   ]
  },
  {
   "cell_type": "markdown",
   "metadata": {},
   "source": [
    "### 3. Lets and add more information in and see what it can tell us?"
   ]
  },
  {
   "cell_type": "code",
   "execution_count": null,
   "metadata": {},
   "outputs": [],
   "source": [
    "f = plt.figure(figsize=(10,10))\n",
    "f.tight_layout()\n",
    "nx.draw(G, with_labels=True, node_color='green', node_size=900)"
   ]
  },
  {
   "cell_type": "markdown",
   "metadata": {},
   "source": [
    "### 🖇🐛Minitask - Can you make the network more readable?\n",
    "\n",
    "The graph above is not very useable. Can you manipulate the code to make it better?"
   ]
  },
  {
   "cell_type": "markdown",
   "metadata": {},
   "source": [
    "### 4. Lets see if adding types to the data makes it more readable"
   ]
  },
  {
   "cell_type": "code",
   "execution_count": null,
   "metadata": {},
   "outputs": [],
   "source": [
    "# we are going to add in three types \n",
    "# node that are tweeter, nodes that are retweeters and nodes which are both tweeters and retweeters\n",
    "# we are going to set up two lists one for retweeters and one for tweeters\n",
    "retweeters = df['Retweeter'].tolist()\n",
    "tweeters = df['Tweeter'].tolist()\n",
    "\n",
    "# here we set up lists to hold the ids and types\n",
    "ids = []\n",
    "types = []\n",
    "\n",
    "# we cycle through the list of retweeters if they are not already in the id list we add them \n",
    "# before we add the type we check if it is also in the tweeter list\n",
    "for each_retweeter in retweeters:\n",
    "    if each_retweeter not in ids:\n",
    "        if each_retweeter not in tweeters:\n",
    "            types.append('retweeter')\n",
    "        else:\n",
    "            types.append('both')\n",
    "        ids.append(each_retweeter)\n",
    "for each_tweeter in tweeters:\n",
    "    if each_tweeter not in ids:\n",
    "        if each_tweeter not in retweeters:\n",
    "            types.append('tweeter')\n",
    "            ids.append(each_tweeter)       "
   ]
  },
  {
   "cell_type": "code",
   "execution_count": null,
   "metadata": {},
   "outputs": [],
   "source": [
    "print(ids)"
   ]
  },
  {
   "cell_type": "code",
   "execution_count": null,
   "metadata": {},
   "outputs": [],
   "source": [
    "print(types)"
   ]
  },
  {
   "cell_type": "markdown",
   "metadata": {},
   "source": [
    "### 5. Lets make the network graph"
   ]
  },
  {
   "cell_type": "code",
   "execution_count": null,
   "metadata": {},
   "outputs": [],
   "source": [
    "# Create DF for node characteristics\n",
    "carac = pd.DataFrame({'ID':ids, \n",
    "                      'type':types})\n",
    "\n",
    "# Create graph object\n",
    "G = nx.from_pandas_edgelist(relationships, 'from', 'to', create_using=nx.Graph())\n",
    "\n",
    "# Make types into categories\n",
    "carac= carac.set_index('ID')\n",
    "carac=carac.reindex(G.nodes())\n",
    "carac['type']=pd.Categorical(carac['type'])\n",
    "carac['type'].cat.codes\n",
    "\n",
    "\n",
    "# Set node sizes and the node colours\n",
    "node_sizes = [10000 if entry != 'tweeter' else 200 for entry in carac.type]\n",
    "node_color= [\"blue\" if entry ==\"tweeter\" else \"red\" if entry ==\"both\" else \"orange\" for entry in carac.type]\n",
    "\n",
    "f = plt.figure(figsize=(20,20))\n",
    "\n",
    "nx.draw(G, with_labels=True, node_color=node_color, cmap=cmap, \n",
    "        node_size = node_sizes, edgecolors='black')"
   ]
  },
  {
   "cell_type": "markdown",
   "metadata": {},
   "source": [
    "### 🖇🐛Minitask - Can you do any better? I couldn't in the time I had but maybe you can?"
   ]
  },
  {
   "cell_type": "markdown",
   "metadata": {},
   "source": [
    "## Part 3: Optional extra task\n",
    "\n",
    "Network graph is limited by the presentation tools offered by matplotlib.\n",
    "\n",
    "We can export the graph and use a more sophisticated visualisation tool. We will need to do this outside Notable.\n",
    "\n",
    "1. Download the gml -- this is the graph and can be imported into another tool\n",
    "2. Download Gephi from https://gephi.org/\n",
    "3. Download the file from Notable onto you own machine and upload into Gephi \n",
    "4. Please ask if you get stuck\n",
    "5. I have also included further data sets to play with -- network_dict_shortest.csv contains the top 10 retweeters and network_dict_short.csv contains the top 100. Good luck!  "
   ]
  },
  {
   "cell_type": "code",
   "execution_count": null,
   "metadata": {},
   "outputs": [],
   "source": [
    "# Use this to download the graph stucture\n",
    "nx.write_gml(G,\"tweets.gml\")\n",
    "\n",
    "# save it on your local machine and upload it into Gephi"
   ]
  }
 ],
 "metadata": {
  "kernelspec": {
   "display_name": "Python 3 (ipykernel)",
   "language": "python",
   "name": "python3"
  },
  "language_info": {
   "codemirror_mode": {
    "name": "ipython",
    "version": 3
   },
   "file_extension": ".py",
   "mimetype": "text/x-python",
   "name": "python",
   "nbconvert_exporter": "python",
   "pygments_lexer": "ipython3",
   "version": "3.9.12"
  }
 },
 "nbformat": 4,
 "nbformat_minor": 2
}
